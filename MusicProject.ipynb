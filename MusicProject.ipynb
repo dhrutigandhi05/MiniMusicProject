{
 "cells": [
  {
   "cell_type": "code",
   "execution_count": 24,
   "id": "9151c7c3-55c6-40da-887f-608ff768646c",
   "metadata": {},
   "outputs": [
    {
     "data": {
      "text/plain": [
       "0.75"
      ]
     },
     "execution_count": 24,
     "metadata": {},
     "output_type": "execute_result"
    }
   ],
   "source": [
    "import pandas as pd\n",
    "from sklearn.tree import DecisionTreeClassifier # for decision tree model\n",
    "from sklearn.model_selection import train_test_split # for spliting data into training and testing sets\n",
    "from sklearn.metrics import accuracy_score # for calculating accuracy of the model\n",
    "\n",
    "music_data = pd.read_csv('music.csv') # load data from the file\n",
    "# input features X and target variable y\n",
    "X = music_data.drop(columns=['genre']) \n",
    "y = music_data['genre']\n",
    "X_train, X_test, y_train, y_test = train_test_split(X, y, test_size=0.2) # split data into training and testing sets\n",
    "\n",
    "# create and train model\n",
    "model = DecisionTreeClassifier()\n",
    "model.fit(X_train, y_train)\n",
    "predictions = model.predict(X_test) # make predictions\n",
    "\n",
    "store = accuracy_score(y_test, predictions) # calculate accuracy\n",
    "store"
   ]
  },
  {
   "cell_type": "code",
   "execution_count": null,
   "id": "b50d6353-e411-40e0-ad21-8a7fdcbd6e1e",
   "metadata": {},
   "outputs": [],
   "source": []
  }
 ],
 "metadata": {
  "kernelspec": {
   "display_name": "Python [conda env:base] *",
   "language": "python",
   "name": "conda-base-py"
  },
  "language_info": {
   "codemirror_mode": {
    "name": "ipython",
    "version": 3
   },
   "file_extension": ".py",
   "mimetype": "text/x-python",
   "name": "python",
   "nbconvert_exporter": "python",
   "pygments_lexer": "ipython3",
   "version": "3.12.7"
  }
 },
 "nbformat": 4,
 "nbformat_minor": 5
}
